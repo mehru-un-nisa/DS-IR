{
 "cells": [
  {
   "cell_type": "markdown",
   "metadata": {},
   "source": [
    "<h2 style =\"color:purple;\">Import Libraries</h2>"
   ]
  },
  {
   "cell_type": "code",
   "execution_count": 1,
   "metadata": {},
   "outputs": [
    {
     "name": "stderr",
     "output_type": "stream",
     "text": [
      "C:\\Anaconda3\\lib\\site-packages\\gensim\\utils.py:1212: UserWarning: detected Windows; aliasing chunkize to chunkize_serial\n",
      "  warnings.warn(\"detected Windows; aliasing chunkize to chunkize_serial\")\n",
      "C:\\Anaconda3\\lib\\importlib\\_bootstrap.py:219: RuntimeWarning: cymem.cymem.Pool size changed, may indicate binary incompatibility. Expected 48 from C header, got 64 from PyObject\n",
      "  return f(*args, **kwds)\n",
      "C:\\Anaconda3\\lib\\importlib\\_bootstrap.py:219: RuntimeWarning: cymem.cymem.Address size changed, may indicate binary incompatibility. Expected 24 from C header, got 40 from PyObject\n",
      "  return f(*args, **kwds)\n"
     ]
    },
    {
     "name": "stdout",
     "output_type": "stream",
     "text": [
      "[nltk_data] Downloading package wordnet to\n",
      "[nltk_data]     C:\\Users\\anas_\\AppData\\Roaming\\nltk_data...\n",
      "[nltk_data]   Package wordnet is already up-to-date!\n",
      "[nltk_data] Downloading package stopwords to\n",
      "[nltk_data]     C:\\Users\\anas_\\AppData\\Roaming\\nltk_data...\n",
      "[nltk_data]   Package stopwords is already up-to-date!\n"
     ]
    }
   ],
   "source": [
    "import numpy as np\n",
    "import pandas as pd\n",
    "import graphviz\n",
    "from matplotlib import pyplot as plt\n",
    "import math\n",
    "import os\n",
    "import pickle\n",
    "from nltk.corpus import stopwords\n",
    "from string import punctuation as puncs\n",
    "import nltk\n",
    "import seaborn as sns\n",
    "from sklearn import tree\n",
    "from sklearn.tree import DecisionTreeClassifier\n",
    "from sklearn.tree import export_graphviz\n",
    "from sklearn.ensemble import ExtraTreesClassifier\n",
    "from sklearn.ensemble import RandomForestClassifier\n",
    "from sklearn.model_selection import train_test_split\n",
    "from sklearn.metrics import accuracy_score\n",
    "from sklearn import preprocessing\n",
    "from gensim.models.ldamodel import LdaModel\n",
    "from gensim.corpora.dictionary import Dictionary\n",
    "from sklearn.cluster import KMeans\n",
    "from spacy.lang.en import English\n",
    "nltk.download('wordnet')\n",
    "nltk.download('stopwords')\n",
    "from nltk.corpus import wordnet as wn\n",
    "from nltk.stem.wordnet import WordNetLemmatizer"
   ]
  },
  {
   "cell_type": "markdown",
   "metadata": {},
   "source": [
    "<h2 style = \"color:purple\">Data Ingestion</h2>"
   ]
  },
  {
   "cell_type": "code",
   "execution_count": 2,
   "metadata": {},
   "outputs": [
    {
     "data": {
      "text/html": [
       "<div>\n",
       "<style scoped>\n",
       "    .dataframe tbody tr th:only-of-type {\n",
       "        vertical-align: middle;\n",
       "    }\n",
       "\n",
       "    .dataframe tbody tr th {\n",
       "        vertical-align: top;\n",
       "    }\n",
       "\n",
       "    .dataframe thead th {\n",
       "        text-align: right;\n",
       "    }\n",
       "</style>\n",
       "<table border=\"1\" class=\"dataframe\">\n",
       "  <thead>\n",
       "    <tr style=\"text-align: right;\">\n",
       "      <th></th>\n",
       "      <th>business</th>\n",
       "      <th>tech</th>\n",
       "      <th>entertainment</th>\n",
       "      <th>politics</th>\n",
       "      <th>sport</th>\n",
       "      <th>doc_label</th>\n",
       "      <th>true_label</th>\n",
       "    </tr>\n",
       "  </thead>\n",
       "  <tbody>\n",
       "    <tr>\n",
       "      <th>0</th>\n",
       "      <td>0.000000</td>\n",
       "      <td>0.793176</td>\n",
       "      <td>0.606020</td>\n",
       "      <td>0.060099</td>\n",
       "      <td>0.000000</td>\n",
       "      <td>tech</td>\n",
       "      <td>tech</td>\n",
       "    </tr>\n",
       "    <tr>\n",
       "      <th>1</th>\n",
       "      <td>0.898768</td>\n",
       "      <td>0.198901</td>\n",
       "      <td>0.174393</td>\n",
       "      <td>0.284308</td>\n",
       "      <td>0.203494</td>\n",
       "      <td>business</td>\n",
       "      <td>business</td>\n",
       "    </tr>\n",
       "    <tr>\n",
       "      <th>2</th>\n",
       "      <td>0.000000</td>\n",
       "      <td>0.000000</td>\n",
       "      <td>0.000000</td>\n",
       "      <td>0.200206</td>\n",
       "      <td>0.979754</td>\n",
       "      <td>sport</td>\n",
       "      <td>sport</td>\n",
       "    </tr>\n",
       "    <tr>\n",
       "      <th>3</th>\n",
       "      <td>0.000000</td>\n",
       "      <td>0.000000</td>\n",
       "      <td>0.000000</td>\n",
       "      <td>0.000000</td>\n",
       "      <td>1.000000</td>\n",
       "      <td>sport</td>\n",
       "      <td>sport</td>\n",
       "    </tr>\n",
       "    <tr>\n",
       "      <th>4</th>\n",
       "      <td>0.055238</td>\n",
       "      <td>0.109776</td>\n",
       "      <td>0.992420</td>\n",
       "      <td>0.000000</td>\n",
       "      <td>0.000000</td>\n",
       "      <td>entertainment</td>\n",
       "      <td>entertainment</td>\n",
       "    </tr>\n",
       "  </tbody>\n",
       "</table>\n",
       "</div>"
      ],
      "text/plain": [
       "   business      tech  entertainment  politics     sport      doc_label  \\\n",
       "0  0.000000  0.793176       0.606020  0.060099  0.000000           tech   \n",
       "1  0.898768  0.198901       0.174393  0.284308  0.203494       business   \n",
       "2  0.000000  0.000000       0.000000  0.200206  0.979754          sport   \n",
       "3  0.000000  0.000000       0.000000  0.000000  1.000000          sport   \n",
       "4  0.055238  0.109776       0.992420  0.000000  0.000000  entertainment   \n",
       "\n",
       "      true_label  \n",
       "0           tech  \n",
       "1       business  \n",
       "2          sport  \n",
       "3          sport  \n",
       "4  entertainment  "
      ]
     },
     "execution_count": 2,
     "metadata": {},
     "output_type": "execute_result"
    }
   ],
   "source": [
    "data = pd.read_pickle('./lda_score_df.pkl')\n",
    "data.head()"
   ]
  },
  {
   "cell_type": "markdown",
   "metadata": {},
   "source": [
    "## A deeper look into the data"
   ]
  },
  {
   "cell_type": "code",
   "execution_count": 3,
   "metadata": {},
   "outputs": [
    {
     "data": {
      "text/plain": [
       "(2225, 7)"
      ]
     },
     "execution_count": 3,
     "metadata": {},
     "output_type": "execute_result"
    }
   ],
   "source": [
    "data.shape"
   ]
  },
  {
   "cell_type": "code",
   "execution_count": 4,
   "metadata": {},
   "outputs": [
    {
     "data": {
      "text/plain": [
       "sport            524\n",
       "politics         500\n",
       "business         473\n",
       "entertainment    389\n",
       "tech             339\n",
       "Name: doc_label, dtype: int64"
      ]
     },
     "execution_count": 4,
     "metadata": {},
     "output_type": "execute_result"
    }
   ],
   "source": [
    "data.doc_label.value_counts()"
   ]
  },
  {
   "cell_type": "code",
   "execution_count": 5,
   "metadata": {},
   "outputs": [
    {
     "data": {
      "text/plain": [
       "sport            511\n",
       "business         510\n",
       "politics         417\n",
       "tech             401\n",
       "entertainment    386\n",
       "Name: true_label, dtype: int64"
      ]
     },
     "execution_count": 5,
     "metadata": {},
     "output_type": "execute_result"
    }
   ],
   "source": [
    "data.true_label.value_counts()"
   ]
  },
  {
   "cell_type": "markdown",
   "metadata": {},
   "source": [
    "<h2 style = \"color:purple\">Data Preprocessing</h2>"
   ]
  },
  {
   "cell_type": "code",
   "execution_count": 6,
   "metadata": {},
   "outputs": [
    {
     "data": {
      "text/html": [
       "<div>\n",
       "<style scoped>\n",
       "    .dataframe tbody tr th:only-of-type {\n",
       "        vertical-align: middle;\n",
       "    }\n",
       "\n",
       "    .dataframe tbody tr th {\n",
       "        vertical-align: top;\n",
       "    }\n",
       "\n",
       "    .dataframe thead th {\n",
       "        text-align: right;\n",
       "    }\n",
       "</style>\n",
       "<table border=\"1\" class=\"dataframe\">\n",
       "  <thead>\n",
       "    <tr style=\"text-align: right;\">\n",
       "      <th></th>\n",
       "      <th>business</th>\n",
       "      <th>tech</th>\n",
       "      <th>entertainment</th>\n",
       "      <th>politics</th>\n",
       "      <th>sport</th>\n",
       "      <th>doc_label</th>\n",
       "      <th>true_label</th>\n",
       "    </tr>\n",
       "  </thead>\n",
       "  <tbody>\n",
       "    <tr>\n",
       "      <th>0</th>\n",
       "      <td>0.000000</td>\n",
       "      <td>0.793176</td>\n",
       "      <td>0.606020</td>\n",
       "      <td>0.060099</td>\n",
       "      <td>0.000000</td>\n",
       "      <td>tech</td>\n",
       "      <td>tech</td>\n",
       "    </tr>\n",
       "    <tr>\n",
       "      <th>1</th>\n",
       "      <td>0.898768</td>\n",
       "      <td>0.198901</td>\n",
       "      <td>0.174393</td>\n",
       "      <td>0.284308</td>\n",
       "      <td>0.203494</td>\n",
       "      <td>business</td>\n",
       "      <td>business</td>\n",
       "    </tr>\n",
       "    <tr>\n",
       "      <th>2</th>\n",
       "      <td>0.000000</td>\n",
       "      <td>0.000000</td>\n",
       "      <td>0.000000</td>\n",
       "      <td>0.200206</td>\n",
       "      <td>0.979754</td>\n",
       "      <td>sport</td>\n",
       "      <td>sport</td>\n",
       "    </tr>\n",
       "    <tr>\n",
       "      <th>3</th>\n",
       "      <td>0.000000</td>\n",
       "      <td>0.000000</td>\n",
       "      <td>0.000000</td>\n",
       "      <td>0.000000</td>\n",
       "      <td>1.000000</td>\n",
       "      <td>sport</td>\n",
       "      <td>sport</td>\n",
       "    </tr>\n",
       "    <tr>\n",
       "      <th>4</th>\n",
       "      <td>0.055238</td>\n",
       "      <td>0.109776</td>\n",
       "      <td>0.992420</td>\n",
       "      <td>0.000000</td>\n",
       "      <td>0.000000</td>\n",
       "      <td>entertainment</td>\n",
       "      <td>entertainment</td>\n",
       "    </tr>\n",
       "  </tbody>\n",
       "</table>\n",
       "</div>"
      ],
      "text/plain": [
       "   business      tech  entertainment  politics     sport      doc_label  \\\n",
       "0  0.000000  0.793176       0.606020  0.060099  0.000000           tech   \n",
       "1  0.898768  0.198901       0.174393  0.284308  0.203494       business   \n",
       "2  0.000000  0.000000       0.000000  0.200206  0.979754          sport   \n",
       "3  0.000000  0.000000       0.000000  0.000000  1.000000          sport   \n",
       "4  0.055238  0.109776       0.992420  0.000000  0.000000  entertainment   \n",
       "\n",
       "      true_label  \n",
       "0           tech  \n",
       "1       business  \n",
       "2          sport  \n",
       "3          sport  \n",
       "4  entertainment  "
      ]
     },
     "execution_count": 6,
     "metadata": {},
     "output_type": "execute_result"
    }
   ],
   "source": [
    "data_copy = data.copy()\n",
    "data_copy.head()"
   ]
  },
  {
   "cell_type": "markdown",
   "metadata": {},
   "source": [
    "###  As seen here, our text will be classified into one of these categories, named :\n",
    "* sport\n",
    "* business\n",
    "* politics\n",
    "* tech\n",
    "* entertainment\n"
   ]
  },
  {
   "cell_type": "code",
   "execution_count": 7,
   "metadata": {},
   "outputs": [],
   "source": [
    "X_features=data_copy.columns[:5]\n",
    "X = data_copy[X_features]\n",
    "y = data_copy.true_label"
   ]
  },
  {
   "cell_type": "markdown",
   "metadata": {},
   "source": [
    "### Binning"
   ]
  },
  {
   "cell_type": "markdown",
   "metadata": {},
   "source": [
    "*Binning is not that useful here* and all values are already between 0-1"
   ]
  },
  {
   "cell_type": "markdown",
   "metadata": {},
   "source": [
    "<h2 style = \"color:purple\">Learn Classification Model</h3>"
   ]
  },
  {
   "cell_type": "code",
   "execution_count": 8,
   "metadata": {
    "scrolled": true
   },
   "outputs": [
    {
     "data": {
      "text/html": [
       "<div>\n",
       "<style scoped>\n",
       "    .dataframe tbody tr th:only-of-type {\n",
       "        vertical-align: middle;\n",
       "    }\n",
       "\n",
       "    .dataframe tbody tr th {\n",
       "        vertical-align: top;\n",
       "    }\n",
       "\n",
       "    .dataframe thead th {\n",
       "        text-align: right;\n",
       "    }\n",
       "</style>\n",
       "<table border=\"1\" class=\"dataframe\">\n",
       "  <thead>\n",
       "    <tr style=\"text-align: right;\">\n",
       "      <th></th>\n",
       "      <th>business</th>\n",
       "      <th>tech</th>\n",
       "      <th>entertainment</th>\n",
       "      <th>politics</th>\n",
       "      <th>sport</th>\n",
       "    </tr>\n",
       "  </thead>\n",
       "  <tbody>\n",
       "    <tr>\n",
       "      <th>0</th>\n",
       "      <td>0.000000</td>\n",
       "      <td>0.793176</td>\n",
       "      <td>0.606020</td>\n",
       "      <td>0.060099</td>\n",
       "      <td>0.000000</td>\n",
       "    </tr>\n",
       "    <tr>\n",
       "      <th>1</th>\n",
       "      <td>0.898768</td>\n",
       "      <td>0.198901</td>\n",
       "      <td>0.174393</td>\n",
       "      <td>0.284308</td>\n",
       "      <td>0.203494</td>\n",
       "    </tr>\n",
       "    <tr>\n",
       "      <th>2</th>\n",
       "      <td>0.000000</td>\n",
       "      <td>0.000000</td>\n",
       "      <td>0.000000</td>\n",
       "      <td>0.200206</td>\n",
       "      <td>0.979754</td>\n",
       "    </tr>\n",
       "    <tr>\n",
       "      <th>3</th>\n",
       "      <td>0.000000</td>\n",
       "      <td>0.000000</td>\n",
       "      <td>0.000000</td>\n",
       "      <td>0.000000</td>\n",
       "      <td>1.000000</td>\n",
       "    </tr>\n",
       "    <tr>\n",
       "      <th>4</th>\n",
       "      <td>0.055238</td>\n",
       "      <td>0.109776</td>\n",
       "      <td>0.992420</td>\n",
       "      <td>0.000000</td>\n",
       "      <td>0.000000</td>\n",
       "    </tr>\n",
       "  </tbody>\n",
       "</table>\n",
       "</div>"
      ],
      "text/plain": [
       "   business      tech  entertainment  politics     sport\n",
       "0  0.000000  0.793176       0.606020  0.060099  0.000000\n",
       "1  0.898768  0.198901       0.174393  0.284308  0.203494\n",
       "2  0.000000  0.000000       0.000000  0.200206  0.979754\n",
       "3  0.000000  0.000000       0.000000  0.000000  1.000000\n",
       "4  0.055238  0.109776       0.992420  0.000000  0.000000"
      ]
     },
     "execution_count": 8,
     "metadata": {},
     "output_type": "execute_result"
    }
   ],
   "source": [
    "X = data_copy[X_features]\n",
    "X.head()"
   ]
  },
  {
   "cell_type": "code",
   "execution_count": 9,
   "metadata": {},
   "outputs": [
    {
     "data": {
      "text/plain": [
       "0             tech\n",
       "1         business\n",
       "2            sport\n",
       "3            sport\n",
       "4    entertainment\n",
       "Name: true_label, dtype: object"
      ]
     },
     "execution_count": 9,
     "metadata": {},
     "output_type": "execute_result"
    }
   ],
   "source": [
    "y = data_copy.true_label\n",
    "y.head()"
   ]
  },
  {
   "cell_type": "code",
   "execution_count": 10,
   "metadata": {},
   "outputs": [],
   "source": [
    "randomState=0\n",
    "X_train,X_test,y_train,y_test = train_test_split(X,y,test_size = 0.25,random_state =randomState)"
   ]
  },
  {
   "cell_type": "markdown",
   "metadata": {},
   "source": [
    "### Extra Tree"
   ]
  },
  {
   "cell_type": "code",
   "execution_count": 11,
   "metadata": {},
   "outputs": [
    {
     "data": {
      "text/plain": [
       "ExtraTreesClassifier(bootstrap=False, class_weight=None, criterion='gini',\n",
       "           max_depth=8, max_features='auto', max_leaf_nodes=None,\n",
       "           min_impurity_decrease=0.0, min_impurity_split=None,\n",
       "           min_samples_leaf=1, min_samples_split=2,\n",
       "           min_weight_fraction_leaf=0.0, n_estimators=50, n_jobs=None,\n",
       "           oob_score=False, random_state=None, verbose=0, warm_start=False)"
      ]
     },
     "execution_count": 11,
     "metadata": {},
     "output_type": "execute_result"
    }
   ],
   "source": [
    "extra_tree_classifier = ExtraTreesClassifier(n_estimators = 50,max_depth=8)\n",
    "extra_tree_classifier.fit(X_train,y_train)"
   ]
  },
  {
   "cell_type": "code",
   "execution_count": 12,
   "metadata": {},
   "outputs": [],
   "source": [
    "y_train_predict = extra_tree_classifier.predict(X_train)\n",
    "y_predict = extra_tree_classifier.predict(X_test)"
   ]
  },
  {
   "cell_type": "code",
   "execution_count": 13,
   "metadata": {},
   "outputs": [
    {
     "name": "stdout",
     "output_type": "stream",
     "text": [
      "Extra Tree Classifier\n",
      "Train Accuracy :  0.9316546762589928\n",
      "Test Accuracy : 0.8886894075403949\n"
     ]
    }
   ],
   "source": [
    "train_acc_score_ext = accuracy_score(y_train,y_train_predict)\n",
    "test_acc_score_ext = accuracy_score(y_test,y_predict)\n",
    "print(\"Extra Tree Classifier\")\n",
    "print(\"Train Accuracy : \",train_acc_score_ext)\n",
    "print(\"Test Accuracy :\" ,test_acc_score_ext)"
   ]
  },
  {
   "cell_type": "markdown",
   "metadata": {},
   "source": [
    "### Decision Tree"
   ]
  },
  {
   "cell_type": "code",
   "execution_count": 14,
   "metadata": {},
   "outputs": [],
   "source": [
    "decision_tree_classifier = DecisionTreeClassifier()\n",
    "clf=decision_tree_classifier.fit(X_train,y_train)"
   ]
  },
  {
   "cell_type": "code",
   "execution_count": 15,
   "metadata": {},
   "outputs": [
    {
     "name": "stdout",
     "output_type": "stream",
     "text": [
      "Tree nodes count: 421\n"
     ]
    }
   ],
   "source": [
    "print(\"Tree nodes count:\",clf.tree_.node_count)"
   ]
  },
  {
   "cell_type": "code",
   "execution_count": 16,
   "metadata": {},
   "outputs": [],
   "source": [
    "y_train_predict = decision_tree_classifier.predict(X_train)\n",
    "y_predict = decision_tree_classifier.predict(X_test)"
   ]
  },
  {
   "cell_type": "code",
   "execution_count": 17,
   "metadata": {
    "scrolled": true
   },
   "outputs": [
    {
     "name": "stdout",
     "output_type": "stream",
     "text": [
      "Decision Tree Scores\n",
      "Train Accuracy :  0.9928057553956835\n",
      "Test Accuracy : 0.8904847396768402\n"
     ]
    }
   ],
   "source": [
    "train_acc_score_dt = accuracy_score(y_train,y_train_predict)\n",
    "test_acc_score_dt = accuracy_score(y_test,y_predict)\n",
    "print(\"Decision Tree Scores\")\n",
    "print(\"Train Accuracy : \",train_acc_score_dt)\n",
    "print(\"Test Accuracy :\" ,test_acc_score_dt)"
   ]
  },
  {
   "cell_type": "code",
   "execution_count": 18,
   "metadata": {},
   "outputs": [
    {
     "data": {
      "text/plain": [
       "'decision_tree_before_optimization.pdf'"
      ]
     },
     "execution_count": 18,
     "metadata": {},
     "output_type": "execute_result"
    }
   ],
   "source": [
    "dot_data = tree.export_graphviz(clf, out_file=None, \n",
    "                      feature_names=X_features,  \n",
    "                     class_names=data.true_label.values,  \n",
    "                      filled=True, rounded=True,  \n",
    "                      special_characters=True)  \n",
    "graph = graphviz.Source(dot_data)  \n",
    "graph.render(\"decision_tree_before_optimization\")"
   ]
  },
  {
   "cell_type": "markdown",
   "metadata": {},
   "source": [
    "#### Optimizing Decision Tree parameters"
   ]
  },
  {
   "cell_type": "markdown",
   "metadata": {},
   "source": [
    "#### For optimizing max_leaf_nodes"
   ]
  },
  {
   "cell_type": "code",
   "execution_count": 19,
   "metadata": {},
   "outputs": [],
   "source": [
    "leaf_count=[50,60,70,80,90,100,110,120,130,140,150]\n",
    "training_accuracy=[]\n",
    "testing_accuracy=[]\n",
    "for c in leaf_count:\n",
    "    decision_tree_classifier = DecisionTreeClassifier(max_leaf_nodes=c)\n",
    "    clf = decision_tree_classifier.fit(X_train,y_train)\n",
    "    \n",
    "    y_train_predict = decision_tree_classifier.predict(X_train)\n",
    "    y_predict = decision_tree_classifier.predict(X_test)\n",
    "\n",
    "    train_acc_score_dt = accuracy_score(y_train,y_train_predict)\n",
    "    test_acc_score_dt = accuracy_score(y_test,y_predict)\n",
    "    training_accuracy.append(train_acc_score_dt)\n",
    "    testing_accuracy.append(test_acc_score_dt)\n",
    "    \n",
    "#     print('For max_leaf_nodes=%d:' %c)\n",
    "#     print('Training Accuracy = ',training_score)\n",
    "#     print('Testing Accuracy = ',testing_score)\n",
    "\n"
   ]
  },
  {
   "cell_type": "code",
   "execution_count": 20,
   "metadata": {},
   "outputs": [
    {
     "data": {
      "text/html": [
       "<div>\n",
       "<style scoped>\n",
       "    .dataframe tbody tr th:only-of-type {\n",
       "        vertical-align: middle;\n",
       "    }\n",
       "\n",
       "    .dataframe tbody tr th {\n",
       "        vertical-align: top;\n",
       "    }\n",
       "\n",
       "    .dataframe thead th {\n",
       "        text-align: right;\n",
       "    }\n",
       "</style>\n",
       "<table border=\"1\" class=\"dataframe\">\n",
       "  <thead>\n",
       "    <tr style=\"text-align: right;\">\n",
       "      <th></th>\n",
       "      <th>Max Leaf Nodes</th>\n",
       "      <th>Training Accuracy</th>\n",
       "      <th>Testing Accuracy</th>\n",
       "    </tr>\n",
       "  </thead>\n",
       "  <tbody>\n",
       "    <tr>\n",
       "      <th>0</th>\n",
       "      <td>50</td>\n",
       "      <td>0.920863</td>\n",
       "      <td>0.890485</td>\n",
       "    </tr>\n",
       "    <tr>\n",
       "      <th>1</th>\n",
       "      <td>60</td>\n",
       "      <td>0.931655</td>\n",
       "      <td>0.892280</td>\n",
       "    </tr>\n",
       "    <tr>\n",
       "      <th>2</th>\n",
       "      <td>70</td>\n",
       "      <td>0.938249</td>\n",
       "      <td>0.901257</td>\n",
       "    </tr>\n",
       "    <tr>\n",
       "      <th>3</th>\n",
       "      <td>80</td>\n",
       "      <td>0.945444</td>\n",
       "      <td>0.897666</td>\n",
       "    </tr>\n",
       "    <tr>\n",
       "      <th>4</th>\n",
       "      <td>90</td>\n",
       "      <td>0.951439</td>\n",
       "      <td>0.899461</td>\n",
       "    </tr>\n",
       "    <tr>\n",
       "      <th>5</th>\n",
       "      <td>100</td>\n",
       "      <td>0.955036</td>\n",
       "      <td>0.894075</td>\n",
       "    </tr>\n",
       "    <tr>\n",
       "      <th>6</th>\n",
       "      <td>110</td>\n",
       "      <td>0.958034</td>\n",
       "      <td>0.888689</td>\n",
       "    </tr>\n",
       "    <tr>\n",
       "      <th>7</th>\n",
       "      <td>120</td>\n",
       "      <td>0.962830</td>\n",
       "      <td>0.890485</td>\n",
       "    </tr>\n",
       "    <tr>\n",
       "      <th>8</th>\n",
       "      <td>130</td>\n",
       "      <td>0.965827</td>\n",
       "      <td>0.883303</td>\n",
       "    </tr>\n",
       "    <tr>\n",
       "      <th>9</th>\n",
       "      <td>140</td>\n",
       "      <td>0.968825</td>\n",
       "      <td>0.883303</td>\n",
       "    </tr>\n",
       "    <tr>\n",
       "      <th>10</th>\n",
       "      <td>150</td>\n",
       "      <td>0.973621</td>\n",
       "      <td>0.894075</td>\n",
       "    </tr>\n",
       "  </tbody>\n",
       "</table>\n",
       "</div>"
      ],
      "text/plain": [
       "    Max Leaf Nodes  Training Accuracy  Testing Accuracy\n",
       "0               50           0.920863          0.890485\n",
       "1               60           0.931655          0.892280\n",
       "2               70           0.938249          0.901257\n",
       "3               80           0.945444          0.897666\n",
       "4               90           0.951439          0.899461\n",
       "5              100           0.955036          0.894075\n",
       "6              110           0.958034          0.888689\n",
       "7              120           0.962830          0.890485\n",
       "8              130           0.965827          0.883303\n",
       "9              140           0.968825          0.883303\n",
       "10             150           0.973621          0.894075"
      ]
     },
     "execution_count": 20,
     "metadata": {},
     "output_type": "execute_result"
    }
   ],
   "source": [
    "accuracy_df=pd.DataFrame({'Max Leaf Nodes':leaf_count,\n",
    "                              'Training Accuracy':training_accuracy,\n",
    "                              'Testing Accuracy':testing_accuracy})\n",
    "accuracy_df"
   ]
  },
  {
   "cell_type": "code",
   "execution_count": 21,
   "metadata": {
    "scrolled": true
   },
   "outputs": [
    {
     "data": {
      "image/png": "[encoded data removed]",
      "text/plain": [
       "<Figure size 576x288 with 1 Axes>"
      ]
     },
     "metadata": {},
     "output_type": "display_data"
    }
   ],
   "source": [
    "sns.set()\n",
    "plt.plot(leaf_count, training_accuracy,'r')\n",
    "plt.plot(leaf_count, testing_accuracy,'b')\n",
    "plt.legend(['Train Accuracy', 'Test Accuracy'], loc='upper left')\n",
    "plt.xlabel('Max Leaf Nodes')\n",
    "plt.ylabel('Classifier Accuracy')\n",
    "plt.title('Effect of Max Leaf Nodes on Accuracy')\n",
    "plt.gcf().set_size_inches(8, 4)\n",
    "plt.show()"
   ]
  },
  {
   "cell_type": "markdown",
   "metadata": {},
   "source": [
    "So, max_leaf_nodes=70 gives best accuracy without overfitting"
   ]
  },
  {
   "cell_type": "markdown",
   "metadata": {},
   "source": [
    "#### For optimizing tree \"min_sample_leafs\""
   ]
  },
  {
   "cell_type": "markdown",
   "metadata": {},
   "source": [
    "The minimum number of samples required to be at a leaf node."
   ]
  },
  {
   "cell_type": "code",
   "execution_count": 22,
   "metadata": {},
   "outputs": [],
   "source": [
    "min_leaf=[2,4,6,8,10,12,14,16,18,20,25]\n",
    "training_accuracy=[]\n",
    "testing_accuracy=[]\n",
    "for c in min_leaf:\n",
    "    decision_tree_classifier = DecisionTreeClassifier(max_depth=c)\n",
    "    clf = decision_tree_classifier.fit(X_train,y_train)\n",
    "    \n",
    "    y_train_predict = decision_tree_classifier.predict(X_train)\n",
    "    y_predict = decision_tree_classifier.predict(X_test)\n",
    "\n",
    "    train_acc_score_dt = accuracy_score(y_train,y_train_predict)\n",
    "    test_acc_score_dt = accuracy_score(y_test,y_predict)\n",
    "    training_accuracy.append(train_acc_score_dt)\n",
    "    testing_accuracy.append(test_acc_score_dt)"
   ]
  },
  {
   "cell_type": "code",
   "execution_count": 23,
   "metadata": {},
   "outputs": [
    {
     "data": {
      "text/html": [
       "<div>\n",
       "<style scoped>\n",
       "    .dataframe tbody tr th:only-of-type {\n",
       "        vertical-align: middle;\n",
       "    }\n",
       "\n",
       "    .dataframe tbody tr th {\n",
       "        vertical-align: top;\n",
       "    }\n",
       "\n",
       "    .dataframe thead th {\n",
       "        text-align: right;\n",
       "    }\n",
       "</style>\n",
       "<table border=\"1\" class=\"dataframe\">\n",
       "  <thead>\n",
       "    <tr style=\"text-align: right;\">\n",
       "      <th></th>\n",
       "      <th>Min Leaf</th>\n",
       "      <th>Training Accuracy</th>\n",
       "      <th>Testing Accuracy</th>\n",
       "    </tr>\n",
       "  </thead>\n",
       "  <tbody>\n",
       "    <tr>\n",
       "      <th>0</th>\n",
       "      <td>2</td>\n",
       "      <td>0.614508</td>\n",
       "      <td>0.635548</td>\n",
       "    </tr>\n",
       "    <tr>\n",
       "      <th>1</th>\n",
       "      <td>4</td>\n",
       "      <td>0.851918</td>\n",
       "      <td>0.852783</td>\n",
       "    </tr>\n",
       "    <tr>\n",
       "      <th>2</th>\n",
       "      <td>6</td>\n",
       "      <td>0.898082</td>\n",
       "      <td>0.895871</td>\n",
       "    </tr>\n",
       "    <tr>\n",
       "      <th>3</th>\n",
       "      <td>8</td>\n",
       "      <td>0.924460</td>\n",
       "      <td>0.892280</td>\n",
       "    </tr>\n",
       "    <tr>\n",
       "      <th>4</th>\n",
       "      <td>10</td>\n",
       "      <td>0.949640</td>\n",
       "      <td>0.890485</td>\n",
       "    </tr>\n",
       "    <tr>\n",
       "      <th>5</th>\n",
       "      <td>12</td>\n",
       "      <td>0.963429</td>\n",
       "      <td>0.892280</td>\n",
       "    </tr>\n",
       "    <tr>\n",
       "      <th>6</th>\n",
       "      <td>14</td>\n",
       "      <td>0.978417</td>\n",
       "      <td>0.895871</td>\n",
       "    </tr>\n",
       "    <tr>\n",
       "      <th>7</th>\n",
       "      <td>16</td>\n",
       "      <td>0.988010</td>\n",
       "      <td>0.885099</td>\n",
       "    </tr>\n",
       "    <tr>\n",
       "      <th>8</th>\n",
       "      <td>18</td>\n",
       "      <td>0.989808</td>\n",
       "      <td>0.892280</td>\n",
       "    </tr>\n",
       "    <tr>\n",
       "      <th>9</th>\n",
       "      <td>20</td>\n",
       "      <td>0.990408</td>\n",
       "      <td>0.888689</td>\n",
       "    </tr>\n",
       "    <tr>\n",
       "      <th>10</th>\n",
       "      <td>25</td>\n",
       "      <td>0.992806</td>\n",
       "      <td>0.892280</td>\n",
       "    </tr>\n",
       "  </tbody>\n",
       "</table>\n",
       "</div>"
      ],
      "text/plain": [
       "    Min Leaf  Training Accuracy  Testing Accuracy\n",
       "0          2           0.614508          0.635548\n",
       "1          4           0.851918          0.852783\n",
       "2          6           0.898082          0.895871\n",
       "3          8           0.924460          0.892280\n",
       "4         10           0.949640          0.890485\n",
       "5         12           0.963429          0.892280\n",
       "6         14           0.978417          0.895871\n",
       "7         16           0.988010          0.885099\n",
       "8         18           0.989808          0.892280\n",
       "9         20           0.990408          0.888689\n",
       "10        25           0.992806          0.892280"
      ]
     },
     "execution_count": 23,
     "metadata": {},
     "output_type": "execute_result"
    }
   ],
   "source": [
    "accuracy_df=pd.DataFrame({'Min Leaf':min_leaf,\n",
    "                              'Training Accuracy':training_accuracy,\n",
    "                              'Testing Accuracy':testing_accuracy})\n",
    "accuracy_df\n"
   ]
  },
  {
   "cell_type": "code",
   "execution_count": 24,
   "metadata": {},
   "outputs": [
    {
     "data": {
      "image/png": "[encoded data removed]",
      "text/plain": [
       "<Figure size 720x432 with 1 Axes>"
      ]
     },
     "metadata": {},
     "output_type": "display_data"
    }
   ],
   "source": [
    "plt.plot(min_leaf, training_accuracy,'r')\n",
    "plt.plot(min_leaf, testing_accuracy,'b')\n",
    "plt.legend(['Train Accuracy', 'Test Accuracy'], loc='upper left')\n",
    "plt.xlabel('Min Leaf')\n",
    "plt.ylabel('Classifier Accuracy')\n",
    "plt.title('Effect of Min-Leaf-Nodes on Accuracy')\n",
    "plt.gcf().set_size_inches(10, 6)\n",
    "plt.show()"
   ]
  },
  {
   "cell_type": "markdown",
   "metadata": {},
   "source": [
    "So, min_sample_leafs=8 gives best accuracy without overfitting"
   ]
  },
  {
   "cell_type": "markdown",
   "metadata": {},
   "source": [
    "#### For optimizing tree \"max depth\""
   ]
  },
  {
   "cell_type": "markdown",
   "metadata": {},
   "source": [
    "The maximum depth of the tree."
   ]
  },
  {
   "cell_type": "code",
   "execution_count": 25,
   "metadata": {},
   "outputs": [],
   "source": [
    "max_depth=[2,4,6,8,10,12,14,16,18,20,25]\n",
    "training_accuracy=[]\n",
    "testing_accuracy=[]\n",
    "for c in max_depth:\n",
    "    decision_tree_classifier = DecisionTreeClassifier(max_depth=c)\n",
    "    clf = decision_tree_classifier.fit(X_train,y_train)\n",
    "    \n",
    "    y_train_predict = decision_tree_classifier.predict(X_train)\n",
    "    y_predict = decision_tree_classifier.predict(X_test)\n",
    "\n",
    "    train_acc_score_dt = accuracy_score(y_train,y_train_predict)\n",
    "    test_acc_score_dt = accuracy_score(y_test,y_predict)\n",
    "    training_accuracy.append(train_acc_score_dt)\n",
    "    testing_accuracy.append(test_acc_score_dt)\n"
   ]
  },
  {
   "cell_type": "code",
   "execution_count": 26,
   "metadata": {},
   "outputs": [
    {
     "data": {
      "text/html": [
       "<div>\n",
       "<style scoped>\n",
       "    .dataframe tbody tr th:only-of-type {\n",
       "        vertical-align: middle;\n",
       "    }\n",
       "\n",
       "    .dataframe tbody tr th {\n",
       "        vertical-align: top;\n",
       "    }\n",
       "\n",
       "    .dataframe thead th {\n",
       "        text-align: right;\n",
       "    }\n",
       "</style>\n",
       "<table border=\"1\" class=\"dataframe\">\n",
       "  <thead>\n",
       "    <tr style=\"text-align: right;\">\n",
       "      <th></th>\n",
       "      <th>Max Depth</th>\n",
       "      <th>Training Accuracy</th>\n",
       "      <th>Testing Accuracy</th>\n",
       "    </tr>\n",
       "  </thead>\n",
       "  <tbody>\n",
       "    <tr>\n",
       "      <th>0</th>\n",
       "      <td>2</td>\n",
       "      <td>0.614508</td>\n",
       "      <td>0.635548</td>\n",
       "    </tr>\n",
       "    <tr>\n",
       "      <th>1</th>\n",
       "      <td>4</td>\n",
       "      <td>0.851918</td>\n",
       "      <td>0.852783</td>\n",
       "    </tr>\n",
       "    <tr>\n",
       "      <th>2</th>\n",
       "      <td>6</td>\n",
       "      <td>0.898082</td>\n",
       "      <td>0.895871</td>\n",
       "    </tr>\n",
       "    <tr>\n",
       "      <th>3</th>\n",
       "      <td>8</td>\n",
       "      <td>0.923861</td>\n",
       "      <td>0.897666</td>\n",
       "    </tr>\n",
       "    <tr>\n",
       "      <th>4</th>\n",
       "      <td>10</td>\n",
       "      <td>0.949640</td>\n",
       "      <td>0.897666</td>\n",
       "    </tr>\n",
       "    <tr>\n",
       "      <th>5</th>\n",
       "      <td>12</td>\n",
       "      <td>0.962830</td>\n",
       "      <td>0.899461</td>\n",
       "    </tr>\n",
       "    <tr>\n",
       "      <th>6</th>\n",
       "      <td>14</td>\n",
       "      <td>0.977818</td>\n",
       "      <td>0.897666</td>\n",
       "    </tr>\n",
       "    <tr>\n",
       "      <th>7</th>\n",
       "      <td>16</td>\n",
       "      <td>0.988010</td>\n",
       "      <td>0.901257</td>\n",
       "    </tr>\n",
       "    <tr>\n",
       "      <th>8</th>\n",
       "      <td>18</td>\n",
       "      <td>0.989209</td>\n",
       "      <td>0.892280</td>\n",
       "    </tr>\n",
       "    <tr>\n",
       "      <th>9</th>\n",
       "      <td>20</td>\n",
       "      <td>0.990408</td>\n",
       "      <td>0.899461</td>\n",
       "    </tr>\n",
       "    <tr>\n",
       "      <th>10</th>\n",
       "      <td>25</td>\n",
       "      <td>0.992806</td>\n",
       "      <td>0.885099</td>\n",
       "    </tr>\n",
       "  </tbody>\n",
       "</table>\n",
       "</div>"
      ],
      "text/plain": [
       "    Max Depth  Training Accuracy  Testing Accuracy\n",
       "0           2           0.614508          0.635548\n",
       "1           4           0.851918          0.852783\n",
       "2           6           0.898082          0.895871\n",
       "3           8           0.923861          0.897666\n",
       "4          10           0.949640          0.897666\n",
       "5          12           0.962830          0.899461\n",
       "6          14           0.977818          0.897666\n",
       "7          16           0.988010          0.901257\n",
       "8          18           0.989209          0.892280\n",
       "9          20           0.990408          0.899461\n",
       "10         25           0.992806          0.885099"
      ]
     },
     "execution_count": 26,
     "metadata": {},
     "output_type": "execute_result"
    }
   ],
   "source": [
    "accuracy_df=pd.DataFrame({'Max Depth':max_depth,\n",
    "                              'Training Accuracy':training_accuracy,\n",
    "                              'Testing Accuracy':testing_accuracy})\n",
    "accuracy_df"
   ]
  },
  {
   "cell_type": "code",
   "execution_count": 27,
   "metadata": {},
   "outputs": [
    {
     "data": {
      "image/png": "[encoded data removed]",
      "text/plain": [
       "<Figure size 720x432 with 1 Axes>"
      ]
     },
     "metadata": {},
     "output_type": "display_data"
    }
   ],
   "source": [
    "\n",
    "plt.plot(max_depth, training_accuracy,'r')\n",
    "plt.plot(max_depth, testing_accuracy,'b')\n",
    "plt.legend(['Train Accuracy', 'Test Accuracy'], loc='upper left')\n",
    "plt.xlabel('Max Depth')\n",
    "plt.ylabel('Classifier Accuracy')\n",
    "plt.title('Effect of Max Tree-Depth on Accuracy')\n",
    "plt.gcf().set_size_inches(10, 6)\n",
    "plt.show()"
   ]
  },
  {
   "cell_type": "markdown",
   "metadata": {},
   "source": [
    "So, max_depth=8 gives best accuracy without overfitting"
   ]
  },
  {
   "cell_type": "markdown",
   "metadata": {},
   "source": [
    "#### Training Optimized DecisionTreeClassifier"
   ]
  },
  {
   "cell_type": "code",
   "execution_count": 28,
   "metadata": {},
   "outputs": [
    {
     "name": "stdout",
     "output_type": "stream",
     "text": [
      "Tree nodes count: 101\n"
     ]
    }
   ],
   "source": [
    "decision_tree_classifier = DecisionTreeClassifier(max_depth=8,min_samples_leaf=8,max_leaf_nodes=70)\n",
    "clf=decision_tree_classifier.fit(X_train,y_train)\n",
    "print(\"Tree nodes count:\",clf.tree_.node_count)"
   ]
  },
  {
   "cell_type": "code",
   "execution_count": 29,
   "metadata": {},
   "outputs": [],
   "source": [
    "y_train_predict = decision_tree_classifier.predict(X_train)\n",
    "y_predict = decision_tree_classifier.predict(X_test)"
   ]
  },
  {
   "cell_type": "code",
   "execution_count": 30,
   "metadata": {
    "scrolled": true
   },
   "outputs": [
    {
     "name": "stdout",
     "output_type": "stream",
     "text": [
      "Decision Tree Scores\n",
      "Train Accuracy :  0.89568345323741\n",
      "Test Accuracy : 0.8886894075403949\n"
     ]
    }
   ],
   "source": [
    "train_acc_score_dt = accuracy_score(y_train,y_train_predict)\n",
    "test_acc_score_dt = accuracy_score(y_test,y_predict)\n",
    "print(\"Decision Tree Scores\")\n",
    "print(\"Train Accuracy : \",train_acc_score_dt)\n",
    "print(\"Test Accuracy :\" ,test_acc_score_dt)"
   ]
  },
  {
   "cell_type": "markdown",
   "metadata": {},
   "source": [
    "*The tree has best testing_accuracy so far and also node_count is just 101 instead of 421*"
   ]
  },
  {
   "cell_type": "code",
   "execution_count": 31,
   "metadata": {},
   "outputs": [
    {
     "data": {
      "text/plain": [
       "'decision_tree.pdf'"
      ]
     },
     "execution_count": 31,
     "metadata": {},
     "output_type": "execute_result"
    }
   ],
   "source": [
    "dot_data = tree.export_graphviz(clf, out_file=None,\n",
    "                      feature_names=X_features,  \n",
    "                     class_names=data.true_label.values,  \n",
    "                      filled=True, rounded=True,  \n",
    "                      special_characters=True)  \n",
    "graph = graphviz.Source(dot_data)  \n",
    "graph.render(\"decision_tree\")"
   ]
  },
  {
   "cell_type": "markdown",
   "metadata": {},
   "source": [
    "### Random Forest"
   ]
  },
  {
   "cell_type": "code",
   "execution_count": 32,
   "metadata": {},
   "outputs": [
    {
     "data": {
      "text/plain": [
       "RandomForestClassifier(bootstrap=True, class_weight=None, criterion='gini',\n",
       "            max_depth=9, max_features='auto', max_leaf_nodes=None,\n",
       "            min_impurity_decrease=0.0, min_impurity_split=None,\n",
       "            min_samples_leaf=5, min_samples_split=2,\n",
       "            min_weight_fraction_leaf=0.0, n_estimators=50, n_jobs=None,\n",
       "            oob_score=False, random_state=None, verbose=0,\n",
       "            warm_start=False)"
      ]
     },
     "execution_count": 32,
     "metadata": {},
     "output_type": "execute_result"
    }
   ],
   "source": [
    "random_forest_classifier = RandomForestClassifier(n_estimators=50,min_samples_leaf=5,max_depth=9)\n",
    "random_forest_classifier.fit(X_train,y_train)"
   ]
  },
  {
   "cell_type": "code",
   "execution_count": 33,
   "metadata": {},
   "outputs": [],
   "source": [
    "y_train_predict = random_forest_classifier.predict(X_train)\n",
    "y_predict = random_forest_classifier.predict(X_test)"
   ]
  },
  {
   "cell_type": "code",
   "execution_count": 34,
   "metadata": {},
   "outputs": [
    {
     "name": "stdout",
     "output_type": "stream",
     "text": [
      "Random Forest Classifier\n",
      "Train Accuracy :  0.9154676258992805\n",
      "Test Accuracy : 0.8868940754039497\n"
     ]
    }
   ],
   "source": [
    "train_acc_score_rf = accuracy_score(y_train,y_train_predict)\n",
    "test_acc_score_rf = accuracy_score(y_test,y_predict)\n",
    "print(\"Random Forest Classifier\")\n",
    "print(\"Train Accuracy : \",train_acc_score_rf)\n",
    "print(\"Test Accuracy :\" ,test_acc_score_rf)"
   ]
  },
  {
   "cell_type": "code",
   "execution_count": 35,
   "metadata": {},
   "outputs": [
    {
     "data": {
      "text/html": [
       "<div>\n",
       "<style scoped>\n",
       "    .dataframe tbody tr th:only-of-type {\n",
       "        vertical-align: middle;\n",
       "    }\n",
       "\n",
       "    .dataframe tbody tr th {\n",
       "        vertical-align: top;\n",
       "    }\n",
       "\n",
       "    .dataframe thead th {\n",
       "        text-align: right;\n",
       "    }\n",
       "</style>\n",
       "<table border=\"1\" class=\"dataframe\">\n",
       "  <thead>\n",
       "    <tr style=\"text-align: right;\">\n",
       "      <th></th>\n",
       "      <th>model</th>\n",
       "      <th>test_accuracy</th>\n",
       "    </tr>\n",
       "  </thead>\n",
       "  <tbody>\n",
       "    <tr>\n",
       "      <th>0</th>\n",
       "      <td>Decision Tree</td>\n",
       "      <td>0.888689</td>\n",
       "    </tr>\n",
       "    <tr>\n",
       "      <th>1</th>\n",
       "      <td>Random Forest</td>\n",
       "      <td>0.886894</td>\n",
       "    </tr>\n",
       "    <tr>\n",
       "      <th>2</th>\n",
       "      <td>Extra Tree</td>\n",
       "      <td>0.888689</td>\n",
       "    </tr>\n",
       "  </tbody>\n",
       "</table>\n",
       "</div>"
      ],
      "text/plain": [
       "           model  test_accuracy\n",
       "0  Decision Tree       0.888689\n",
       "1  Random Forest       0.886894\n",
       "2     Extra Tree       0.888689"
      ]
     },
     "execution_count": 35,
     "metadata": {},
     "output_type": "execute_result"
    },
    {
     "data": {
      "image/png": "[encoded data removed]",
      "text/plain": [
       "<Figure size 720x432 with 1 Axes>"
      ]
     },
     "metadata": {},
     "output_type": "display_data"
    }
   ],
   "source": [
    "#accuracy plot\n",
    "plt.Figure(figsize=(10,2))\n",
    "df = pd.DataFrame([{\"model\":\"Decision Tree\",\"test_accuracy\": test_acc_score_dt},\n",
    "                 {\"model\":\"Random Forest\",\"test_accuracy\": test_acc_score_rf},\n",
    "                 {\"model\":\"Extra Tree\",\"test_accuracy\": test_acc_score_ext}])\n",
    "plt.figure(figsize=(10,6))\n",
    "plt.xlim(0,1)\n",
    "sns.barplot(x = 'test_accuracy', y = 'model', data = df, palette=sns.color_palette(\"BuGn_r\"))\n",
    "df"
   ]
  },
  {
   "cell_type": "code",
   "execution_count": 36,
   "metadata": {},
   "outputs": [
    {
     "data": {
      "text/plain": [
       "384          politics\n",
       "1983            sport\n",
       "985             sport\n",
       "1386            sport\n",
       "1294            sport\n",
       "1293    entertainment\n",
       "1259         politics\n",
       "1978         business\n",
       "1123         business\n",
       "1405            sport\n",
       "Name: true_label, dtype: object"
      ]
     },
     "execution_count": 36,
     "metadata": {},
     "output_type": "execute_result"
    }
   ],
   "source": [
    "y_test.head(10)"
   ]
  },
  {
   "cell_type": "code",
   "execution_count": 37,
   "metadata": {},
   "outputs": [
    {
     "data": {
      "text/plain": [
       "array(['business', 'sport', 'sport', 'sport', 'sport', 'entertainment',\n",
       "       'politics', 'business', 'business', 'sport'], dtype=object)"
      ]
     },
     "execution_count": 37,
     "metadata": {},
     "output_type": "execute_result"
    }
   ],
   "source": [
    "y_predict[:10]"
   ]
  },
  {
   "cell_type": "markdown",
   "metadata": {},
   "source": [
    "<h2 style = \"color:purple\">Testing On Sample Documents</h2>\n",
    "\n",
    "#### Class Labels\n",
    "* business = 1\n",
    "* entertainment = 2\n",
    "* politics = 3\n",
    "* sport = 4\n",
    "* tech = 5"
   ]
  },
  {
   "cell_type": "code",
   "execution_count": 38,
   "metadata": {},
   "outputs": [],
   "source": [
    "def prepareDataFrame(txtFiles):\n",
    "    dictionary_list = []\n",
    "    stop_words = stopwords.words('english')\n",
    "    for file in txtFiles: \n",
    "        file_object = open(file,'r',encoding = \"ISO_8859_1\") #open file\n",
    "        text = file_object.read() #read text from file\n",
    "        dictionary_list.append({\"text\":text})\n",
    "        file_object.close() #close file_object pointer\n",
    "    \n",
    "    return pd.DataFrame(dictionary_list) "
   ]
  },
  {
   "cell_type": "code",
   "execution_count": 39,
   "metadata": {},
   "outputs": [],
   "source": [
    "true_labels = []\n",
    "path = './DS Test Set/'\n",
    "testFiles = []\n",
    "for fileName in os.listdir(path):\n",
    "    if fileName.endswith('.txt'):\n",
    "        testFiles.append(path+fileName)\n",
    "        if 'business' in fileName:\n",
    "            true_labels.append('business')\n",
    "        elif 'entertainment' in fileName:\n",
    "            true_labels.append('entertainment')\n",
    "        elif 'politic' in fileName:\n",
    "            true_labels.append('politics')\n",
    "        elif 'sport' in fileName:\n",
    "            true_labels.append('sport')\n",
    "        else :\n",
    "            true_labels.append('tech')"
   ]
  },
  {
   "cell_type": "code",
   "execution_count": 40,
   "metadata": {},
   "outputs": [
    {
     "data": {
      "text/html": [
       "<div>\n",
       "<style scoped>\n",
       "    .dataframe tbody tr th:only-of-type {\n",
       "        vertical-align: middle;\n",
       "    }\n",
       "\n",
       "    .dataframe tbody tr th {\n",
       "        vertical-align: top;\n",
       "    }\n",
       "\n",
       "    .dataframe thead th {\n",
       "        text-align: right;\n",
       "    }\n",
       "</style>\n",
       "<table border=\"1\" class=\"dataframe\">\n",
       "  <thead>\n",
       "    <tr style=\"text-align: right;\">\n",
       "      <th></th>\n",
       "      <th>text</th>\n",
       "    </tr>\n",
       "  </thead>\n",
       "  <tbody>\n",
       "    <tr>\n",
       "      <th>0</th>\n",
       "      <td>The pound and shares in housebuilders and bank...</td>\n",
       "    </tr>\n",
       "    <tr>\n",
       "      <th>1</th>\n",
       "      <td>Hong Kong, (UrduPoint / Pakistan Point News - ...</td>\n",
       "    </tr>\n",
       "    <tr>\n",
       "      <th>2</th>\n",
       "      <td>The dollar saw a Rs9.5 rise Friday morning, ju...</td>\n",
       "    </tr>\n",
       "    <tr>\n",
       "      <th>3</th>\n",
       "      <td>A meticulously polished open-world ode to the ...</td>\n",
       "    </tr>\n",
       "    <tr>\n",
       "      <th>4</th>\n",
       "      <td>The big fat Bollywood wedding for this season ...</td>\n",
       "    </tr>\n",
       "    <tr>\n",
       "      <th>5</th>\n",
       "      <td>A Brand-New and Authentic Spider-Man Adventure...</td>\n",
       "    </tr>\n",
       "    <tr>\n",
       "      <th>6</th>\n",
       "      <td>A political clobbering, bickering aides and no...</td>\n",
       "    </tr>\n",
       "    <tr>\n",
       "      <th>7</th>\n",
       "      <td>At a news conference, Georgia Democrats cast d...</td>\n",
       "    </tr>\n",
       "    <tr>\n",
       "      <th>8</th>\n",
       "      <td>India leave on Friday for Australia where they...</td>\n",
       "    </tr>\n",
       "    <tr>\n",
       "      <th>9</th>\n",
       "      <td>As his Red Devils tenure neared its end, the f...</td>\n",
       "    </tr>\n",
       "    <tr>\n",
       "      <th>10</th>\n",
       "      <td>Roger Federer has told players who complain ab...</td>\n",
       "    </tr>\n",
       "    <tr>\n",
       "      <th>11</th>\n",
       "      <td>At Fifa's football awards ceremony in London i...</td>\n",
       "    </tr>\n",
       "    <tr>\n",
       "      <th>12</th>\n",
       "      <td>Chip designer Nvidia on Thursday forecast disa...</td>\n",
       "    </tr>\n",
       "    <tr>\n",
       "      <th>13</th>\n",
       "      <td>The Federal Communications Commission on Wedne...</td>\n",
       "    </tr>\n",
       "  </tbody>\n",
       "</table>\n",
       "</div>"
      ],
      "text/plain": [
       "                                                 text\n",
       "0   The pound and shares in housebuilders and bank...\n",
       "1   Hong Kong, (UrduPoint / Pakistan Point News - ...\n",
       "2   The dollar saw a Rs9.5 rise Friday morning, ju...\n",
       "3   A meticulously polished open-world ode to the ...\n",
       "4   The big fat Bollywood wedding for this season ...\n",
       "5   A Brand-New and Authentic Spider-Man Adventure...\n",
       "6   A political clobbering, bickering aides and no...\n",
       "7   At a news conference, Georgia Democrats cast d...\n",
       "8   India leave on Friday for Australia where they...\n",
       "9   As his Red Devils tenure neared its end, the f...\n",
       "10  Roger Federer has told players who complain ab...\n",
       "11  At Fifa's football awards ceremony in London i...\n",
       "12  Chip designer Nvidia on Thursday forecast disa...\n",
       "13  The Federal Communications Commission on Wedne..."
      ]
     },
     "execution_count": 40,
     "metadata": {},
     "output_type": "execute_result"
    }
   ],
   "source": [
    "test_data = prepareDataFrame(testFiles)\n",
    "test_data_copy = test_data\n",
    "test_data_copy"
   ]
  },
  {
   "cell_type": "markdown",
   "metadata": {},
   "source": [
    "<p> The labels below are the true labels associated with each document listed above </p> "
   ]
  },
  {
   "cell_type": "code",
   "execution_count": 41,
   "metadata": {},
   "outputs": [
    {
     "data": {
      "text/plain": [
       "['business',\n",
       " 'business',\n",
       " 'business',\n",
       " 'entertainment',\n",
       " 'entertainment',\n",
       " 'entertainment',\n",
       " 'politics',\n",
       " 'politics',\n",
       " 'sport',\n",
       " 'sport',\n",
       " 'sport',\n",
       " 'sport',\n",
       " 'tech',\n",
       " 'tech']"
      ]
     },
     "execution_count": 41,
     "metadata": {},
     "output_type": "execute_result"
    }
   ],
   "source": [
    "true_labels"
   ]
  },
  {
   "cell_type": "markdown",
   "metadata": {},
   "source": [
    "### Generate Features using trained LDAModel"
   ]
  },
  {
   "cell_type": "code",
   "execution_count": 42,
   "metadata": {},
   "outputs": [],
   "source": [
    "parser = English()\n",
    "def tokenize(text):\n",
    "    lda_tokens = []\n",
    "    tokens = parser(text)\n",
    "    for token in tokens:\n",
    "        if token.orth_.isspace() or token.like_url or token.orth_.startswith('@'):\n",
    "            continue\n",
    "#         elif token.like_url:\n",
    "#             lda_tokens.append('URL')\n",
    "#         elif token.orth_.startswith('@'):\n",
    "#             lda_tokens.append('SCREEN_NAME')\n",
    "        else:\n",
    "            lda_tokens.append(token.lower_)\n",
    "        \n",
    "    return lda_tokens\n",
    "\n",
    "#We use **NLTK’s Wordnet** to find the meanings of words, synonyms, antonyms, and more. In addition, we use **WordNetLemmatizer** to get the root word.\n",
    "def get_lemma(word):\n",
    "    lemma = wn.morphy(word)\n",
    "    if lemma is None:\n",
    "        return word\n",
    "    else:\n",
    "        return lemma\n",
    "    \n",
    "def get_lemma2(word):\n",
    "    return WordNetLemmatizer().lemmatize(word)\n",
    "\n",
    "en_stop = set(nltk.corpus.stopwords.words('english'))\n",
    "\n",
    "#To prepare RAW text for using in LDA model\n",
    "def prepare_text_for_lda(text):\n",
    "    #tokenize string\n",
    "    #filter all words less than length 4\n",
    "    #remove stopwords\n",
    "    #Replace word with its base-synonym (if any)\n",
    "    tokens = tokenize(text)\n",
    "    tokens = [token for token in tokens if len(token) > 4]\n",
    "    tokens = [token for token in tokens if token not in en_stop]\n",
    "    tokens = [get_lemma2(get_lemma(token)) for token in tokens]\n",
    "    return tokens"
   ]
  },
  {
   "cell_type": "code",
   "execution_count": 43,
   "metadata": {},
   "outputs": [
    {
     "data": {
      "text/plain": [
       "[[0.47869986, 0.036539838, 0, 0.4144051, 0.06962664],\n",
       " [0.5663648, 0, 0, 0.32747284, 0.09807325],\n",
       " [0.86296666, 0, 0, 0.11295199, 0.022076186],\n",
       " [0.079765804, 0.20021898, 0.30997446, 0.180586, 0.22945477],\n",
       " [0.16411488, 0.05734094, 0.48342887, 0.1581507, 0.13696466]]"
      ]
     },
     "execution_count": 43,
     "metadata": {},
     "output_type": "execute_result"
    }
   ],
   "source": [
    "ldaModel=LdaModel.load('LdaModel.gensim')\n",
    "vocabulary=Dictionary.load('dictionary.gensim')\n",
    "document_topics_distribution=[]\n",
    "for doc in test_data_copy['text']:\n",
    "    new_doc=prepare_text_for_lda(doc)\n",
    "    new_doc_bow = vocabulary.doc2bow(new_doc)\n",
    "    doc_score=ldaModel.get_document_topics(new_doc_bow)  #returns document topic distribution (not necessariliy for all topics)\n",
    "    scores=[]\n",
    "    i=0\n",
    "    for s in doc_score:\n",
    "        while i<s[0]:\n",
    "            scores.append(0)\n",
    "            i+=1\n",
    "        scores.append(s[1])\n",
    "        i+=1\n",
    "    if i<5:\n",
    "        while i<5:\n",
    "            scores.append(0)\n",
    "            i+=1\n",
    "    document_topics_distribution.append(scores)\n",
    "document_topics_distribution[:5]"
   ]
  },
  {
   "cell_type": "code",
   "execution_count": 44,
   "metadata": {},
   "outputs": [
    {
     "data": {
      "text/html": [
       "<div>\n",
       "<style scoped>\n",
       "    .dataframe tbody tr th:only-of-type {\n",
       "        vertical-align: middle;\n",
       "    }\n",
       "\n",
       "    .dataframe tbody tr th {\n",
       "        vertical-align: top;\n",
       "    }\n",
       "\n",
       "    .dataframe thead th {\n",
       "        text-align: right;\n",
       "    }\n",
       "</style>\n",
       "<table border=\"1\" class=\"dataframe\">\n",
       "  <thead>\n",
       "    <tr style=\"text-align: right;\">\n",
       "      <th></th>\n",
       "      <th>business</th>\n",
       "      <th>tech</th>\n",
       "      <th>entertainment</th>\n",
       "      <th>politics</th>\n",
       "      <th>sport</th>\n",
       "    </tr>\n",
       "  </thead>\n",
       "  <tbody>\n",
       "    <tr>\n",
       "      <th>0</th>\n",
       "      <td>0.478700</td>\n",
       "      <td>0.036540</td>\n",
       "      <td>0.000000</td>\n",
       "      <td>0.414405</td>\n",
       "      <td>0.069627</td>\n",
       "    </tr>\n",
       "    <tr>\n",
       "      <th>1</th>\n",
       "      <td>0.566365</td>\n",
       "      <td>0.000000</td>\n",
       "      <td>0.000000</td>\n",
       "      <td>0.327473</td>\n",
       "      <td>0.098073</td>\n",
       "    </tr>\n",
       "    <tr>\n",
       "      <th>2</th>\n",
       "      <td>0.862967</td>\n",
       "      <td>0.000000</td>\n",
       "      <td>0.000000</td>\n",
       "      <td>0.112952</td>\n",
       "      <td>0.022076</td>\n",
       "    </tr>\n",
       "    <tr>\n",
       "      <th>3</th>\n",
       "      <td>0.079766</td>\n",
       "      <td>0.200219</td>\n",
       "      <td>0.309974</td>\n",
       "      <td>0.180586</td>\n",
       "      <td>0.229455</td>\n",
       "    </tr>\n",
       "    <tr>\n",
       "      <th>4</th>\n",
       "      <td>0.164115</td>\n",
       "      <td>0.057341</td>\n",
       "      <td>0.483429</td>\n",
       "      <td>0.158151</td>\n",
       "      <td>0.136965</td>\n",
       "    </tr>\n",
       "    <tr>\n",
       "      <th>5</th>\n",
       "      <td>0.000000</td>\n",
       "      <td>0.258768</td>\n",
       "      <td>0.526654</td>\n",
       "      <td>0.099098</td>\n",
       "      <td>0.112650</td>\n",
       "    </tr>\n",
       "    <tr>\n",
       "      <th>6</th>\n",
       "      <td>0.190712</td>\n",
       "      <td>0.048460</td>\n",
       "      <td>0.091757</td>\n",
       "      <td>0.484297</td>\n",
       "      <td>0.184774</td>\n",
       "    </tr>\n",
       "    <tr>\n",
       "      <th>7</th>\n",
       "      <td>0.114881</td>\n",
       "      <td>0.023360</td>\n",
       "      <td>0.056687</td>\n",
       "      <td>0.615842</td>\n",
       "      <td>0.189229</td>\n",
       "    </tr>\n",
       "    <tr>\n",
       "      <th>8</th>\n",
       "      <td>0.125355</td>\n",
       "      <td>0.016373</td>\n",
       "      <td>0.120685</td>\n",
       "      <td>0.119559</td>\n",
       "      <td>0.618028</td>\n",
       "    </tr>\n",
       "    <tr>\n",
       "      <th>9</th>\n",
       "      <td>0.013182</td>\n",
       "      <td>0.000000</td>\n",
       "      <td>0.059671</td>\n",
       "      <td>0.107369</td>\n",
       "      <td>0.818330</td>\n",
       "    </tr>\n",
       "    <tr>\n",
       "      <th>10</th>\n",
       "      <td>0.068358</td>\n",
       "      <td>0.047310</td>\n",
       "      <td>0.018970</td>\n",
       "      <td>0.173319</td>\n",
       "      <td>0.692043</td>\n",
       "    </tr>\n",
       "    <tr>\n",
       "      <th>11</th>\n",
       "      <td>0.055267</td>\n",
       "      <td>0.067230</td>\n",
       "      <td>0.100563</td>\n",
       "      <td>0.143824</td>\n",
       "      <td>0.633115</td>\n",
       "    </tr>\n",
       "    <tr>\n",
       "      <th>12</th>\n",
       "      <td>0.641587</td>\n",
       "      <td>0.185969</td>\n",
       "      <td>0.101925</td>\n",
       "      <td>0.050143</td>\n",
       "      <td>0.020376</td>\n",
       "    </tr>\n",
       "    <tr>\n",
       "      <th>13</th>\n",
       "      <td>0.212033</td>\n",
       "      <td>0.306472</td>\n",
       "      <td>0.348052</td>\n",
       "      <td>0.057969</td>\n",
       "      <td>0.075474</td>\n",
       "    </tr>\n",
       "  </tbody>\n",
       "</table>\n",
       "</div>"
      ],
      "text/plain": [
       "    business      tech  entertainment  politics     sport\n",
       "0   0.478700  0.036540       0.000000  0.414405  0.069627\n",
       "1   0.566365  0.000000       0.000000  0.327473  0.098073\n",
       "2   0.862967  0.000000       0.000000  0.112952  0.022076\n",
       "3   0.079766  0.200219       0.309974  0.180586  0.229455\n",
       "4   0.164115  0.057341       0.483429  0.158151  0.136965\n",
       "5   0.000000  0.258768       0.526654  0.099098  0.112650\n",
       "6   0.190712  0.048460       0.091757  0.484297  0.184774\n",
       "7   0.114881  0.023360       0.056687  0.615842  0.189229\n",
       "8   0.125355  0.016373       0.120685  0.119559  0.618028\n",
       "9   0.013182  0.000000       0.059671  0.107369  0.818330\n",
       "10  0.068358  0.047310       0.018970  0.173319  0.692043\n",
       "11  0.055267  0.067230       0.100563  0.143824  0.633115\n",
       "12  0.641587  0.185969       0.101925  0.050143  0.020376\n",
       "13  0.212033  0.306472       0.348052  0.057969  0.075474"
      ]
     },
     "execution_count": 44,
     "metadata": {},
     "output_type": "execute_result"
    }
   ],
   "source": [
    "header=['business','tech','entertainment','politics','sport']\n",
    "topics_distribution_df=pd.DataFrame(document_topics_distribution,columns=header)\n",
    "topics_distribution_df"
   ]
  },
  {
   "cell_type": "code",
   "execution_count": 45,
   "metadata": {},
   "outputs": [],
   "source": [
    "X_test = topics_distribution_df"
   ]
  },
  {
   "cell_type": "code",
   "execution_count": 46,
   "metadata": {},
   "outputs": [],
   "source": [
    "pred_labels = extra_tree_classifier.predict(X_test)\n",
    "pred_labels = list(pred_labels)"
   ]
  },
  {
   "cell_type": "code",
   "execution_count": 47,
   "metadata": {},
   "outputs": [
    {
     "data": {
      "text/plain": [
       "0.8571428571428571"
      ]
     },
     "execution_count": 47,
     "metadata": {},
     "output_type": "execute_result"
    }
   ],
   "source": [
    "pred_accuracy = accuracy_score(true_labels,pred_labels)\n",
    "pred_accuracy"
   ]
  },
  {
   "cell_type": "code",
   "execution_count": 48,
   "metadata": {},
   "outputs": [
    {
     "name": "stdout",
     "output_type": "stream",
     "text": [
      "The true class labels for test document set:\n",
      " ['business', 'business', 'business', 'entertainment', 'entertainment', 'entertainment', 'politics', 'politics', 'sport', 'sport', 'sport', 'sport', 'tech', 'tech']\n",
      "\n",
      "The predicted class labels for test document set:\n",
      " ['business', 'business', 'business', 'entertainment', 'entertainment', 'entertainment', 'business', 'politics', 'sport', 'sport', 'sport', 'sport', 'business', 'tech']\n"
     ]
    }
   ],
   "source": [
    "print(\"The true class labels for test document set:\\n\",true_labels)\n",
    "print()\n",
    "print(\"The predicted class labels for test document set:\\n\",pred_labels)"
   ]
  },
  {
   "cell_type": "markdown",
   "metadata": {},
   "source": [
    "# Conclusion\n",
    "### Need to improve entertainment and tech queries !!!"
   ]
  }
 ],
 "metadata": {
  "kernelspec": {
   "display_name": "Python 3",
   "language": "python",
   "name": "python3"
  },
  "language_info": {
   "codemirror_mode": {
    "name": "ipython",
    "version": 3
   },
   "file_extension": ".py",
   "mimetype": "text/x-python",
   "name": "python",
   "nbconvert_exporter": "python",
   "pygments_lexer": "ipython3",
   "version": "3.6.5"
  }
 },
 "nbformat": 4,
 "nbformat_minor": 2
}
